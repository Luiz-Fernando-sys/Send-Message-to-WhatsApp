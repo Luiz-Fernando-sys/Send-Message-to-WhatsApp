{
 "cells": [
  {
   "cell_type": "code",
   "execution_count": 1,
   "id": "563d21d3",
   "metadata": {},
   "outputs": [
    {
     "name": "stdout",
     "output_type": "stream",
     "text": [
      "In 14 Seconds WhatsApp will open and after 15 Seconds Message will be Delivered!\n"
     ]
    }
   ],
   "source": [
    "import pywhatkit as what #Importando a biblioteca responsável por fazer este envio da mensagem\n",
    "\n",
    "what.sendwhatmsg(\"+5599999999999\", \"Oi | Teste\", 16, 46) #PARÂMETROS PASSADOS: Número a ser enviado a mensagem; a própria mensagem; hora; minuto ||| Neste exemplo, por exemplo, a mensagem será enviada às 16:46"
   ]
  },
  {
   "cell_type": "code",
   "execution_count": null,
   "id": "2c2d10d8",
   "metadata": {},
   "outputs": [],
   "source": []
  }
 ],
 "metadata": {
  "kernelspec": {
   "display_name": "Python 3 (ipykernel)",
   "language": "python",
   "name": "python3"
  },
  "language_info": {
   "codemirror_mode": {
    "name": "ipython",
    "version": 3
   },
   "file_extension": ".py",
   "mimetype": "text/x-python",
   "name": "python",
   "nbconvert_exporter": "python",
   "pygments_lexer": "ipython3",
   "version": "3.9.7"
  }
 },
 "nbformat": 4,
 "nbformat_minor": 5
}
